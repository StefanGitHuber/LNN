{
  "cells": [
    {
      "cell_type": "markdown",
      "id": "f8518e84-5090-4c75-a0a5-caedee0a439c",
      "metadata": {
        "tags": [],
        "id": "f8518e84-5090-4c75-a0a5-caedee0a439c"
      },
      "source": [
        "# Propositional Logic Experiment\n",
        "\n",
        "In this notebook, we will test your skills on using the LNN in a propositional setting. You will be required to use your knowledge about per-node reasoning and bounds to complete the code and answer the query. Once you have evaluated the end result, [submit your answer](https://ibm.ent.box.com/notes/928968934657?s=42l32h0uno2ndq5o9omb7hl17dddpjuk) to become eligble for the [IBM Neuro-Symbolic AI Essentials](https://ibm.biz/nsai-essentials) Badge."
      ]
    },
    {
      "cell_type": "markdown",
      "id": "4ba45830-585b-4ee0-93dc-793a2ee3d94c",
      "metadata": {
        "tags": [],
        "id": "4ba45830-585b-4ee0-93dc-793a2ee3d94c"
      },
      "source": [
        "### Learning Outcomes\n",
        "\n",
        "The [Propositional Logic](../0.%20Propositional%20Logic.ipynb) notebooks demonstrated logical reasoning to evaluate and inspect an LNN graph. This experiment will assess your ability to deconstruct a graph and infer truths for individual nodes. Completing the notebook provides the following learning outcomes:\n",
        "\n",
        "- Omni-directional inference per-node\n",
        "- Printing nodes to evaluate truths\n",
        "- Querying information based on inferred truths"
      ]
    },
    {
      "cell_type": "markdown",
      "id": "a4138282-78a7-4ffa-8cb0-78f0cd881ca1",
      "metadata": {
        "tags": [],
        "id": "a4138282-78a7-4ffa-8cb0-78f0cd881ca1"
      },
      "source": [
        "### Instructions\n",
        "\n",
        "1. _Use_ the illustrations given as a guide on how to reason with an LNN graph\n",
        "\n",
        "2. _Fill_ in code that will evaluate the correct truth values expected from performing logical inference\n",
        "\n",
        "3. _Query_ the logical disjunction between nodes B, D and E\n",
        "\n",
        "4. _Copy & paste_ the output of the result into the form under the `results` field "
      ]
    },
    {
      "cell_type": "markdown",
      "id": "f210f9bc-f931-460c-aed7-3c7be43df521",
      "metadata": {
        "id": "f210f9bc-f931-460c-aed7-3c7be43df521"
      },
      "source": [
        "### Propositional Inference\n",
        "\n",
        "Recall that a proposition is any declarative sentence that allows you to associate a truth value with the atomic formulae. An LNN graph can hierarchically compose these propositions using logical connectives and reason over their respective truths. Evaluating a particular node requires an upward/downward inference pass.\n",
        "\n",
        "Suppose that you are given the following LNN graph:\n",
        "\n",
        "\n",
        "where the following beliefs are outputs from sensor information:\n",
        "```\n",
        "root: TRUE\n",
        "A: 0.2 (with zero uncertainty)\n",
        "C: True\n",
        "E: 0.3 - 0.7\n",
        "```\n",
        "\n",
        "Your task is to perform successive inference passes to obtain the truth value of a query node. \n",
        "> HINT: use the `node.print()` function as a guide to ensure that the LNN is returning the correct truths. \n",
        "\n",
        "The final query is to return the truth of a **disjunction** of the following propositions:\n",
        "\n",
        "\\begin{equation}(B, D, E)\\end{equation}\n",
        "\n",
        "> NB: use the provided function definition to help you extract out the correct truth value bounds\n",
        "\n",
        "<center>\n",
        "    <figure>\n",
        "        <img src=\"../img/experiment/0/graph.png\" width=\"400\" />\n",
        "        <figcaption>Figure 1. Propositional inference</figcaption>\n",
        "    </figure>\n",
        "</center>"
      ]
    },
    {
      "cell_type": "code",
      "source": [
        "!pip install -v -U git+https://github.com/IBM/LNN.git"
      ],
      "metadata": {
        "colab": {
          "base_uri": "https://localhost:8080/"
        },
        "id": "M9lR-68giSzs",
        "outputId": "2c6165e7-79d5-4448-a44b-40ec61daf31c"
      },
      "id": "M9lR-68giSzs",
      "execution_count": 1,
      "outputs": [
        {
          "output_type": "stream",
          "name": "stdout",
          "text": [
            "Using pip 22.0.4 from /usr/local/lib/python3.8/dist-packages/pip (python 3.8)\n",
            "Looking in indexes: https://pypi.org/simple, https://us-python.pkg.dev/colab-wheels/public/simple/\n",
            "Collecting git+https://github.com/IBM/LNN.git\n",
            "  Cloning https://github.com/IBM/LNN.git to /tmp/pip-req-build-fexx9noa\n",
            "  Running command git version\n",
            "  git version 2.25.1\n",
            "  Running command git clone --filter=blob:none https://github.com/IBM/LNN.git /tmp/pip-req-build-fexx9noa\n",
            "  Cloning into '/tmp/pip-req-build-fexx9noa'...\n",
            "  Running command git rev-parse HEAD\n",
            "  5be3cea1e63591f19a55ebc13f92b70cb31a3e51\n",
            "  Resolved https://github.com/IBM/LNN.git to commit 5be3cea1e63591f19a55ebc13f92b70cb31a3e51\n",
            "  Running command python setup.py egg_info\n",
            "  running egg_info\n",
            "  creating /tmp/pip-pip-egg-info-mqo1jsb6/lnn.egg-info\n",
            "  writing /tmp/pip-pip-egg-info-mqo1jsb6/lnn.egg-info/PKG-INFO\n",
            "  writing dependency_links to /tmp/pip-pip-egg-info-mqo1jsb6/lnn.egg-info/dependency_links.txt\n",
            "  writing requirements to /tmp/pip-pip-egg-info-mqo1jsb6/lnn.egg-info/requires.txt\n",
            "  writing top-level names to /tmp/pip-pip-egg-info-mqo1jsb6/lnn.egg-info/top_level.txt\n",
            "  writing manifest file '/tmp/pip-pip-egg-info-mqo1jsb6/lnn.egg-info/SOURCES.txt'\n",
            "  adding license file 'LICENSE'\n",
            "  writing manifest file '/tmp/pip-pip-egg-info-mqo1jsb6/lnn.egg-info/SOURCES.txt'\n",
            "  Preparing metadata (setup.py) ... \u001b[?25l\u001b[?25hdone\n",
            "Requirement already satisfied: networkx>=2.5.1 in /usr/local/lib/python3.8/dist-packages (from lnn==1.1) (3.0)\n",
            "Requirement already satisfied: torch>=1.13.0 in /usr/local/lib/python3.8/dist-packages (from lnn==1.1) (1.13.1+cu116)\n",
            "Collecting matplotlib>=3.3.3\n",
            "  Downloading matplotlib-3.6.3-cp38-cp38-manylinux_2_12_x86_64.manylinux2010_x86_64.whl (9.4 MB)\n",
            "\u001b[2K     \u001b[90m━━━━━━━━━━━━━━━━━━━━━━━━━━━━━━━━━━━━━━━━\u001b[0m \u001b[32m9.4/9.4 MB\u001b[0m \u001b[31m34.6 MB/s\u001b[0m eta \u001b[36m0:00:00\u001b[0m\n",
            "\u001b[?25hCollecting pygraphviz>=1.6\n",
            "  Downloading pygraphviz-1.10.zip (120 kB)\n",
            "\u001b[2K     \u001b[90m━━━━━━━━━━━━━━━━━━━━━━━━━━━━━━━━━━━━━━\u001b[0m \u001b[32m120.6/120.6 KB\u001b[0m \u001b[31m14.9 MB/s\u001b[0m eta \u001b[36m0:00:00\u001b[0m\n",
            "\u001b[?25h  Running command python setup.py egg_info\n",
            "  running egg_info\n",
            "  creating /tmp/pip-pip-egg-info-p71npl_q/pygraphviz.egg-info\n",
            "  writing /tmp/pip-pip-egg-info-p71npl_q/pygraphviz.egg-info/PKG-INFO\n",
            "  writing dependency_links to /tmp/pip-pip-egg-info-p71npl_q/pygraphviz.egg-info/dependency_links.txt\n",
            "  writing top-level names to /tmp/pip-pip-egg-info-p71npl_q/pygraphviz.egg-info/top_level.txt\n",
            "  writing manifest file '/tmp/pip-pip-egg-info-p71npl_q/pygraphviz.egg-info/SOURCES.txt'\n",
            "  reading manifest file '/tmp/pip-pip-egg-info-p71npl_q/pygraphviz.egg-info/SOURCES.txt'\n",
            "  reading manifest template 'MANIFEST.in'\n",
            "  warning: no files found matching '*.png' under directory 'doc'\n",
            "  warning: no files found matching '*.txt' under directory 'doc'\n",
            "  warning: no files found matching '*.css' under directory 'doc'\n",
            "  warning: no previously-included files matching '*~' found anywhere in distribution\n",
            "  warning: no previously-included files matching '*.pyc' found anywhere in distribution\n",
            "  warning: no previously-included files matching '.svn' found anywhere in distribution\n",
            "  no previously-included directories found matching 'doc/build'\n",
            "  adding license file 'LICENSE'\n",
            "  writing manifest file '/tmp/pip-pip-egg-info-p71npl_q/pygraphviz.egg-info/SOURCES.txt'\n",
            "  Preparing metadata (setup.py) ... \u001b[?25l\u001b[?25hdone\n",
            "Requirement already satisfied: tqdm>=4.50.2 in /usr/local/lib/python3.8/dist-packages (from lnn==1.1) (4.64.1)\n",
            "Collecting numpy>=1.23.4\n",
            "  Downloading numpy-1.24.1-cp38-cp38-manylinux_2_17_x86_64.manylinux2014_x86_64.whl (17.3 MB)\n",
            "\u001b[2K     \u001b[90m━━━━━━━━━━━━━━━━━━━━━━━━━━━━━━━━━━━━━━━━\u001b[0m \u001b[32m17.3/17.3 MB\u001b[0m \u001b[31m77.1 MB/s\u001b[0m eta \u001b[36m0:00:00\u001b[0m\n",
            "\u001b[?25hCollecting setuptools~=52.0.0\n",
            "  Downloading setuptools-52.0.0-py3-none-any.whl (784 kB)\n",
            "\u001b[2K     \u001b[90m━━━━━━━━━━━━━━━━━━━━━━━━━━━━━━━━━━━━━━\u001b[0m \u001b[32m784.5/784.5 KB\u001b[0m \u001b[31m61.7 MB/s\u001b[0m eta \u001b[36m0:00:00\u001b[0m\n",
            "\u001b[?25hCollecting torchviz>=0.0.2\n",
            "  Downloading torchviz-0.0.2.tar.gz (4.9 kB)\n",
            "  Running command python setup.py egg_info\n",
            "  running egg_info\n",
            "  creating /tmp/pip-pip-egg-info-w3wwta6y/torchviz.egg-info\n",
            "  writing /tmp/pip-pip-egg-info-w3wwta6y/torchviz.egg-info/PKG-INFO\n",
            "  writing dependency_links to /tmp/pip-pip-egg-info-w3wwta6y/torchviz.egg-info/dependency_links.txt\n",
            "  writing requirements to /tmp/pip-pip-egg-info-w3wwta6y/torchviz.egg-info/requires.txt\n",
            "  writing top-level names to /tmp/pip-pip-egg-info-w3wwta6y/torchviz.egg-info/top_level.txt\n",
            "  writing manifest file '/tmp/pip-pip-egg-info-w3wwta6y/torchviz.egg-info/SOURCES.txt'\n",
            "  reading manifest file '/tmp/pip-pip-egg-info-w3wwta6y/torchviz.egg-info/SOURCES.txt'\n",
            "  writing manifest file '/tmp/pip-pip-egg-info-w3wwta6y/torchviz.egg-info/SOURCES.txt'\n",
            "  Preparing metadata (setup.py) ... \u001b[?25l\u001b[?25hdone\n",
            "Collecting pycddlib>=2.1.4\n",
            "  Downloading pycddlib-2.1.6.tar.gz (159 kB)\n",
            "\u001b[2K     \u001b[90m━━━━━━━━━━━━━━━━━━━━━━━━━━━━━━━━━━━━━━\u001b[0m \u001b[32m159.3/159.3 KB\u001b[0m \u001b[31m17.0 MB/s\u001b[0m eta \u001b[36m0:00:00\u001b[0m\n",
            "\u001b[?25h  Running command python setup.py egg_info\n",
            "  running egg_info\n",
            "  creating /tmp/pip-pip-egg-info-iq8g6c7f/pycddlib.egg-info\n",
            "  writing /tmp/pip-pip-egg-info-iq8g6c7f/pycddlib.egg-info/PKG-INFO\n",
            "  writing dependency_links to /tmp/pip-pip-egg-info-iq8g6c7f/pycddlib.egg-info/dependency_links.txt\n",
            "  writing top-level names to /tmp/pip-pip-egg-info-iq8g6c7f/pycddlib.egg-info/top_level.txt\n",
            "  writing manifest file '/tmp/pip-pip-egg-info-iq8g6c7f/pycddlib.egg-info/SOURCES.txt'\n",
            "  reading manifest file '/tmp/pip-pip-egg-info-iq8g6c7f/pycddlib.egg-info/SOURCES.txt'\n",
            "  reading manifest template 'MANIFEST.in'\n",
            "  warning: no files found matching 'cddlib/README'\n",
            "  warning: no files found matching 'cdd.c'\n",
            "  warning: no directories found matching 'docs/_build/html'\n",
            "  no previously-included directories found matching 'docs/_build/html/.git'\n",
            "  warning: no previously-included files found matching 'docs/_build/html/.nojekyll'\n",
            "  warning: no files found matching 'docs/_build/latex/pycddlib.pdf'\n",
            "  adding license file 'LICENSE.rst'\n",
            "  adding license file 'COPYING'\n",
            "  adding license file 'AUTHORS'\n",
            "  writing manifest file '/tmp/pip-pip-egg-info-iq8g6c7f/pycddlib.egg-info/SOURCES.txt'\n",
            "  Preparing metadata (setup.py) ... \u001b[?25l\u001b[?25hdone\n",
            "Collecting jupyter\n",
            "  Downloading jupyter-1.0.0-py2.py3-none-any.whl (2.7 kB)\n",
            "Requirement already satisfied: tabulate in /usr/local/lib/python3.8/dist-packages (from lnn==1.1) (0.8.10)\n",
            "Requirement already satisfied: pandas>=1.3.4 in /usr/local/lib/python3.8/dist-packages (from lnn==1.1) (1.3.5)\n",
            "\u001b[31mERROR: Package 'lnn' requires a different Python: 3.8.10 not in '>=3.9'\u001b[0m\u001b[31m\n",
            "\u001b[0m"
          ]
        }
      ]
    },
    {
      "cell_type": "markdown",
      "id": "6e187855-7ac0-4e68-9304-faa44277bb7d",
      "metadata": {
        "id": "6e187855-7ac0-4e68-9304-faa44277bb7d"
      },
      "source": [
        "Fill in the codeblock below to construct the graph and reason about all nodes:"
      ]
    },
    {
      "cell_type": "code",
      "execution_count": 2,
      "id": "f6089396-19e1-40ae-8055-a50be06417bd",
      "metadata": {
        "tags": [],
        "colab": {
          "base_uri": "https://localhost:8080/",
          "height": 373
        },
        "id": "f6089396-19e1-40ae-8055-a50be06417bd",
        "outputId": "bca6adad-bca3-4a74-dca4-9a59d3273406"
      },
      "outputs": [
        {
          "output_type": "error",
          "ename": "ModuleNotFoundError",
          "evalue": "ignored",
          "traceback": [
            "\u001b[0;31m---------------------------------------------------------------------------\u001b[0m",
            "\u001b[0;31mModuleNotFoundError\u001b[0m                       Traceback (most recent call last)",
            "\u001b[0;32m<ipython-input-2-002bd6910e3a>\u001b[0m in \u001b[0;36m<module>\u001b[0;34m\u001b[0m\n\u001b[0;32m----> 1\u001b[0;31m \u001b[0;32mfrom\u001b[0m \u001b[0mlnn\u001b[0m \u001b[0;32mimport\u001b[0m \u001b[0mPropositions\u001b[0m\u001b[0;34m,\u001b[0m \u001b[0mAnd\u001b[0m\u001b[0;34m,\u001b[0m \u001b[0mOr\u001b[0m\u001b[0;34m,\u001b[0m \u001b[0mFact\u001b[0m\u001b[0;34m,\u001b[0m \u001b[0mModel\u001b[0m\u001b[0;34m,\u001b[0m \u001b[0mLoss\u001b[0m\u001b[0;34m,\u001b[0m \u001b[0mDirection\u001b[0m\u001b[0;34m,\u001b[0m \u001b[0mEquivalent\u001b[0m\u001b[0;34m,\u001b[0m \u001b[0mVariables\u001b[0m\u001b[0;34m,\u001b[0m \u001b[0mImplies\u001b[0m\u001b[0;34m\u001b[0m\u001b[0;34m\u001b[0m\u001b[0m\n\u001b[0m\u001b[1;32m      2\u001b[0m \u001b[0;34m\u001b[0m\u001b[0m\n\u001b[1;32m      3\u001b[0m \u001b[0;31m# Data\u001b[0m\u001b[0;34m\u001b[0m\u001b[0;34m\u001b[0m\u001b[0;34m\u001b[0m\u001b[0m\n\u001b[1;32m      4\u001b[0m \u001b[0mA\u001b[0m\u001b[0;34m,\u001b[0m \u001b[0mB\u001b[0m\u001b[0;34m,\u001b[0m \u001b[0mC\u001b[0m\u001b[0;34m,\u001b[0m \u001b[0mD\u001b[0m\u001b[0;34m,\u001b[0m \u001b[0mE\u001b[0m \u001b[0;34m=\u001b[0m \u001b[0mPropositions\u001b[0m\u001b[0;34m(\u001b[0m\u001b[0;34m\"A\"\u001b[0m\u001b[0;34m,\u001b[0m \u001b[0;34m\"B\"\u001b[0m\u001b[0;34m,\u001b[0m \u001b[0;34m\"C\"\u001b[0m\u001b[0;34m,\u001b[0m \u001b[0;34m\"D\"\u001b[0m\u001b[0;34m,\u001b[0m \u001b[0;34m\"E\"\u001b[0m\u001b[0;34m)\u001b[0m\u001b[0;34m\u001b[0m\u001b[0;34m\u001b[0m\u001b[0m\n\u001b[1;32m      5\u001b[0m \u001b[0mx\u001b[0m\u001b[0;34m,\u001b[0m \u001b[0my\u001b[0m \u001b[0;34m=\u001b[0m \u001b[0mVariables\u001b[0m\u001b[0;34m(\u001b[0m\u001b[0;34m'x'\u001b[0m\u001b[0;34m,\u001b[0m \u001b[0;34m'y'\u001b[0m\u001b[0;34m)\u001b[0m\u001b[0;34m\u001b[0m\u001b[0;34m\u001b[0m\u001b[0m\n",
            "\u001b[0;31mModuleNotFoundError\u001b[0m: No module named 'lnn'",
            "",
            "\u001b[0;31m---------------------------------------------------------------------------\u001b[0;32m\nNOTE: If your import is failing due to a missing package, you can\nmanually install dependencies using either !pip or !apt.\n\nTo view examples of installing some common dependencies, click the\n\"Open Examples\" button below.\n\u001b[0;31m---------------------------------------------------------------------------\u001b[0m\n"
          ],
          "errorDetails": {
            "actions": [
              {
                "action": "open_url",
                "actionText": "Open Examples",
                "url": "/notebooks/snippets/importing_libraries.ipynb"
              }
            ]
          }
        }
      ],
      "source": [
        "from lnn import Propositions, And, Or, Fact, Model, Loss, Direction, Equivalent, Variables, Implies\n",
        "\n",
        "# Data\n",
        "A, B, C, D, E = Propositions(\"A\", \"B\", \"C\", \"D\", \"E\")\n",
        "x, y = Variables('x', 'y')\n",
        "x = 0.2\n",
        "A.add_data((x, x))\n",
        "C.add_data(Fact.TRUE)\n",
        "E.add_data((0.3,  0.7))\n",
        "\n",
        "# Knowledge\n",
        "AiB = Implies(A, B)\n",
        "CnD = And(C, D)\n",
        "CnDeE = Equivalent(CnD, E)\n",
        "root = And(AiB, CnDeE)\n",
        "root.add_data(Fact.TRUE)\n",
        "\n",
        "# Print\n",
        "A.print()\n",
        "B.print()\n",
        "C.print()\n",
        "D.print()\n",
        "E.print()\n",
        "AiB.print()\n",
        "CnD.print()\n",
        "CnDeE.print()\n",
        "root.print()\n",
        "\n",
        "# Model\n",
        "model = Model()\n",
        "model.add_knowledge(AiB)\n",
        "model.add_knowledge(CnD)\n",
        "model.add_knowledge(CnDeE)\n",
        "model.add_knowledge(root)\n",
        "\n",
        "# Training\n",
        "print(\"Model training\")\n",
        "model.train(direction=Direction.UPWARD, losses=[Loss.CONTRADICTION])\n",
        "\n",
        "# Reasoning\n",
        "print(\"Model inference\")\n",
        "model.infer()\n"
      ]
    },
    {
      "cell_type": "markdown",
      "id": "d866094a-7435-439d-a42a-80c78f5e9173",
      "metadata": {
        "id": "d866094a-7435-439d-a42a-80c78f5e9173"
      },
      "source": [
        "### Query\n",
        "Finally, find the state of the **disjunction** between nodes `B`, `D` and `E`.\n",
        "\n",
        "<center>\n",
        "    <figure>\n",
        "        <img src=\"../img/experiment/0/query.png\" width=\"200\" />\n",
        "        <figcaption>Figure 5. Perform inference to find the disjunction between nodes B, D and E</figcaption>\n",
        "    </figure>\n",
        "</center>"
      ]
    },
    {
      "cell_type": "code",
      "execution_count": null,
      "id": "cf64a30b-fdb7-4c19-82dc-53f0d73a8c87",
      "metadata": {
        "id": "cf64a30b-fdb7-4c19-82dc-53f0d73a8c87"
      },
      "outputs": [],
      "source": [
        "# Perform inference to find disjunction between nodes B, D and E\n",
        "# final query = return truth of disjunction of propositions (B,D,E)\n",
        "query = Or(B,D,E)\n",
        "\n",
        "# Please note, the tutorial does NOT explain:\n",
        "# - How to set a proposition to a single float value = 0.2 (with zero uncertainty)\n",
        "# - What exactly is a disjunction? A logical or-function is what I find in ibm.github.io/LNN/lnn/LNN.html?highlight=disjunction"
      ]
    },
    {
      "cell_type": "markdown",
      "id": "87924e73-5235-4f16-b955-838400a6c731",
      "metadata": {
        "id": "87924e73-5235-4f16-b955-838400a6c731"
      },
      "source": [
        "<h2 style=\"color:#0f62fe\"><strong>NSAI Essentials Submission</strong></h2>\n",
        "\n",
        "- Run the codeblock below to extract the output of the query that was reasoned over. \n",
        "- The output from the cell, **including the quotation marks**, should be filled in the `result` field of the evaluation form.\n",
        "- HINT: The result should look like `'APPROX_TRUE: (*, *)'`, with the bounds filled in.\n",
        "- See the [NSAI Essentials description](https://ibm.box.com/s/42l32h0uno2ndq5o9omb7hl17dddpjuk) for more details on the submission."
      ]
    },
    {
      "cell_type": "code",
      "execution_count": null,
      "id": "b9676877-765f-4161-be1a-40079275012a",
      "metadata": {
        "id": "b9676877-765f-4161-be1a-40079275012a"
      },
      "outputs": [],
      "source": [
        "def format_result(node):\n",
        "    round_off = lambda my_list: [float(f\"{_:.1f}\") for _ in my_list]\n",
        "    return f\"{node.state().name}: {tuple(round_off(node.get_data().tolist()))}\"\n",
        "\n",
        "format_result(query)"
      ]
    },
    {
      "cell_type": "markdown",
      "id": "11c7b63e-857c-4260-ab42-8e0f49dadca0",
      "metadata": {
        "id": "11c7b63e-857c-4260-ab42-8e0f49dadca0"
      },
      "source": [
        "🎉 Congratulations on completing the first set of tutorials on propositional logic 🎉 "
      ]
    }
  ],
  "metadata": {
    "kernelspec": {
      "display_name": "Python 3",
      "language": "python",
      "name": "python3"
    },
    "language_info": {
      "codemirror_mode": {
        "name": "ipython",
        "version": 3
      },
      "file_extension": ".py",
      "mimetype": "text/x-python",
      "name": "python",
      "nbconvert_exporter": "python",
      "pygments_lexer": "ipython3",
      "version": "3.9.5"
    },
    "colab": {
      "provenance": []
    },
    "accelerator": "GPU",
    "gpuClass": "standard"
  },
  "nbformat": 4,
  "nbformat_minor": 5
}
